{
 "cells": [
  {
   "cell_type": "code",
   "execution_count": 17,
   "id": "396c2a35",
   "metadata": {},
   "outputs": [],
   "source": [
    "import numpy as np\n",
    "import pandas as pd\n",
    "\n",
    "estados = ['MG', 'MG', 'MG', 'SP', 'SP', 'SP', 'ES', 'ES', 'ES']\n",
    "cidades = ['Caratinga', 'Ipatinga', 'Timóteo', 'Sorocaba', 'Diadema', 'Piracicaba', 'Vila Velha', 'Vitória', 'Guarapari']\n",
    "dados = [[1848, 92603], [1964, 265409], [1964, 90568], [1654, 687357], [1959, 426757], [1767, 407252], [1535, 501325], [1551, 365855], [1860, 126701]]\n",
    "\n",
    "multindex = list(zip(estados, cidades))\n",
    "multindex = pd.MultiIndex.from_tuples(multindex)\n",
    "\n",
    "df = pd.DataFrame(dados, multindex, ['Ano', 'Populacao'])"
   ]
  },
  {
   "cell_type": "code",
   "execution_count": 18,
   "id": "aafbe511",
   "metadata": {},
   "outputs": [],
   "source": [
    "df.index.names = ['Estado', 'Cidade']"
   ]
  },
  {
   "cell_type": "code",
   "execution_count": 19,
   "id": "0ba0010f",
   "metadata": {},
   "outputs": [
    {
     "data": {
      "text/html": [
       "<div>\n",
       "<style scoped>\n",
       "    .dataframe tbody tr th:only-of-type {\n",
       "        vertical-align: middle;\n",
       "    }\n",
       "\n",
       "    .dataframe tbody tr th {\n",
       "        vertical-align: top;\n",
       "    }\n",
       "\n",
       "    .dataframe thead th {\n",
       "        text-align: right;\n",
       "    }\n",
       "</style>\n",
       "<table border=\"1\" class=\"dataframe\">\n",
       "  <thead>\n",
       "    <tr style=\"text-align: right;\">\n",
       "      <th></th>\n",
       "      <th></th>\n",
       "      <th>Ano</th>\n",
       "      <th>Populacao</th>\n",
       "    </tr>\n",
       "    <tr>\n",
       "      <th>Estado</th>\n",
       "      <th>Cidade</th>\n",
       "      <th></th>\n",
       "      <th></th>\n",
       "    </tr>\n",
       "  </thead>\n",
       "  <tbody>\n",
       "    <tr>\n",
       "      <th rowspan=\"3\" valign=\"top\">MG</th>\n",
       "      <th>Caratinga</th>\n",
       "      <td>1848</td>\n",
       "      <td>92603</td>\n",
       "    </tr>\n",
       "    <tr>\n",
       "      <th>Ipatinga</th>\n",
       "      <td>1964</td>\n",
       "      <td>265409</td>\n",
       "    </tr>\n",
       "    <tr>\n",
       "      <th>Timóteo</th>\n",
       "      <td>1964</td>\n",
       "      <td>90568</td>\n",
       "    </tr>\n",
       "    <tr>\n",
       "      <th rowspan=\"3\" valign=\"top\">SP</th>\n",
       "      <th>Sorocaba</th>\n",
       "      <td>1654</td>\n",
       "      <td>687357</td>\n",
       "    </tr>\n",
       "    <tr>\n",
       "      <th>Diadema</th>\n",
       "      <td>1959</td>\n",
       "      <td>426757</td>\n",
       "    </tr>\n",
       "    <tr>\n",
       "      <th>Piracicaba</th>\n",
       "      <td>1767</td>\n",
       "      <td>407252</td>\n",
       "    </tr>\n",
       "    <tr>\n",
       "      <th rowspan=\"3\" valign=\"top\">ES</th>\n",
       "      <th>Vila Velha</th>\n",
       "      <td>1535</td>\n",
       "      <td>501325</td>\n",
       "    </tr>\n",
       "    <tr>\n",
       "      <th>Vitória</th>\n",
       "      <td>1551</td>\n",
       "      <td>365855</td>\n",
       "    </tr>\n",
       "    <tr>\n",
       "      <th>Guarapari</th>\n",
       "      <td>1860</td>\n",
       "      <td>126701</td>\n",
       "    </tr>\n",
       "  </tbody>\n",
       "</table>\n",
       "</div>"
      ],
      "text/plain": [
       "                    Ano  Populacao\n",
       "Estado Cidade                     \n",
       "MG     Caratinga   1848      92603\n",
       "       Ipatinga    1964     265409\n",
       "       Timóteo     1964      90568\n",
       "SP     Sorocaba    1654     687357\n",
       "       Diadema     1959     426757\n",
       "       Piracicaba  1767     407252\n",
       "ES     Vila Velha  1535     501325\n",
       "       Vitória     1551     365855\n",
       "       Guarapari   1860     126701"
      ]
     },
     "execution_count": 19,
     "metadata": {},
     "output_type": "execute_result"
    }
   ],
   "source": [
    "df"
   ]
  },
  {
   "cell_type": "code",
   "execution_count": 8,
   "id": "df4d4022",
   "metadata": {},
   "outputs": [
    {
     "data": {
      "text/plain": [
       "Estado  Cidade    \n",
       "MG      Caratinga     1848\n",
       "        Ipatinga      1964\n",
       "        Timóteo       1964\n",
       "SP      Sorocaba      1654\n",
       "        Diadema       1959\n",
       "        Piracicaba    1767\n",
       "ES      Vila Velha    1535\n",
       "        Vitória       1551\n",
       "        Guarapari     1860\n",
       "Name: Fundação, dtype: int64"
      ]
     },
     "execution_count": 8,
     "metadata": {},
     "output_type": "execute_result"
    }
   ],
   "source": [
    "df['Fundação']"
   ]
  },
  {
   "cell_type": "code",
   "execution_count": 35,
   "id": "9d945175",
   "metadata": {},
   "outputs": [
    {
     "data": {
      "text/plain": [
       "Ano           1848\n",
       "Populacao    92603\n",
       "Name: (MG, Caratinga), dtype: int64"
      ]
     },
     "execution_count": 35,
     "metadata": {},
     "output_type": "execute_result"
    }
   ],
   "source": [
    "df.xs(('MG', 'Caratinga'))"
   ]
  },
  {
   "cell_type": "code",
   "execution_count": 44,
   "id": "4de8be55",
   "metadata": {},
   "outputs": [
    {
     "data": {
      "text/plain": [
       "1848"
      ]
     },
     "execution_count": 44,
     "metadata": {},
     "output_type": "execute_result"
    }
   ],
   "source": [
    "df.iloc[0,0]"
   ]
  },
  {
   "cell_type": "code",
   "execution_count": null,
   "id": "bd000415",
   "metadata": {},
   "outputs": [],
   "source": []
  }
 ],
 "metadata": {
  "kernelspec": {
   "display_name": "Python 3 (ipykernel)",
   "language": "python",
   "name": "python3"
  },
  "language_info": {
   "codemirror_mode": {
    "name": "ipython",
    "version": 3
   },
   "file_extension": ".py",
   "mimetype": "text/x-python",
   "name": "python",
   "nbconvert_exporter": "python",
   "pygments_lexer": "ipython3",
   "version": "3.8.0"
  }
 },
 "nbformat": 4,
 "nbformat_minor": 5
}
