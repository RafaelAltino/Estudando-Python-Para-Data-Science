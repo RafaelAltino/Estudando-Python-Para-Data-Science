{
 "cells": [
  {
   "cell_type": "code",
   "execution_count": 1,
   "id": "aa2256bd",
   "metadata": {},
   "outputs": [],
   "source": [
    "import numpy as np\n",
    "import pandas as pd\n",
    "\n",
    "estados = ['MG', 'MG', 'MG', 'SP', 'SP', 'SP', 'ES', 'ES', 'ES']\n",
    "cidades = ['Caratinga', 'Ipatinga', 'Timóteo', 'Sorocaba', 'Diadema', 'Piracicaba', 'Vila Velha', 'Vitória', 'Guarapari']\n",
    "dados = [[1848, 92603], [1964, 265409], [1964, 90568], [1654, 687357], [1959, 426757], [1767, 407252], [1535, 501325], [1551, 365855], [1860, 126701]]\n",
    "\n",
    "multindex = list(zip(estados, cidades))\n",
    "multindex = pd.MultiIndex.from_tuples(multindex)\n",
    "\n",
    "df = pd.DataFrame(dados, multindex, ['Fundação', 'População'])"
   ]
  },
  {
   "cell_type": "code",
   "execution_count": 4,
   "id": "1eb6caec",
   "metadata": {},
   "outputs": [],
   "source": [
    "df.index.names = ['Estado', 'Cidade']"
   ]
  },
  {
   "cell_type": "code",
   "execution_count": 5,
   "id": "ede11d7c",
   "metadata": {},
   "outputs": [
    {
     "data": {
      "text/html": [
       "<div>\n",
       "<style scoped>\n",
       "    .dataframe tbody tr th:only-of-type {\n",
       "        vertical-align: middle;\n",
       "    }\n",
       "\n",
       "    .dataframe tbody tr th {\n",
       "        vertical-align: top;\n",
       "    }\n",
       "\n",
       "    .dataframe thead th {\n",
       "        text-align: right;\n",
       "    }\n",
       "</style>\n",
       "<table border=\"1\" class=\"dataframe\">\n",
       "  <thead>\n",
       "    <tr style=\"text-align: right;\">\n",
       "      <th></th>\n",
       "      <th></th>\n",
       "      <th>Fundação</th>\n",
       "      <th>População</th>\n",
       "    </tr>\n",
       "    <tr>\n",
       "      <th>Estado</th>\n",
       "      <th>Cidade</th>\n",
       "      <th></th>\n",
       "      <th></th>\n",
       "    </tr>\n",
       "  </thead>\n",
       "  <tbody>\n",
       "    <tr>\n",
       "      <th rowspan=\"3\" valign=\"top\">MG</th>\n",
       "      <th>Caratinga</th>\n",
       "      <td>1848</td>\n",
       "      <td>92603</td>\n",
       "    </tr>\n",
       "    <tr>\n",
       "      <th>Ipatinga</th>\n",
       "      <td>1964</td>\n",
       "      <td>265409</td>\n",
       "    </tr>\n",
       "    <tr>\n",
       "      <th>Timóteo</th>\n",
       "      <td>1964</td>\n",
       "      <td>90568</td>\n",
       "    </tr>\n",
       "    <tr>\n",
       "      <th rowspan=\"3\" valign=\"top\">SP</th>\n",
       "      <th>Sorocaba</th>\n",
       "      <td>1654</td>\n",
       "      <td>687357</td>\n",
       "    </tr>\n",
       "    <tr>\n",
       "      <th>Diadema</th>\n",
       "      <td>1959</td>\n",
       "      <td>426757</td>\n",
       "    </tr>\n",
       "    <tr>\n",
       "      <th>Piracicaba</th>\n",
       "      <td>1767</td>\n",
       "      <td>407252</td>\n",
       "    </tr>\n",
       "    <tr>\n",
       "      <th rowspan=\"3\" valign=\"top\">ES</th>\n",
       "      <th>Vila Velha</th>\n",
       "      <td>1535</td>\n",
       "      <td>501325</td>\n",
       "    </tr>\n",
       "    <tr>\n",
       "      <th>Vitória</th>\n",
       "      <td>1551</td>\n",
       "      <td>365855</td>\n",
       "    </tr>\n",
       "    <tr>\n",
       "      <th>Guarapari</th>\n",
       "      <td>1860</td>\n",
       "      <td>126701</td>\n",
       "    </tr>\n",
       "  </tbody>\n",
       "</table>\n",
       "</div>"
      ],
      "text/plain": [
       "                   Fundação  População\n",
       "Estado Cidade                         \n",
       "MG     Caratinga       1848      92603\n",
       "       Ipatinga        1964     265409\n",
       "       Timóteo         1964      90568\n",
       "SP     Sorocaba        1654     687357\n",
       "       Diadema         1959     426757\n",
       "       Piracicaba      1767     407252\n",
       "ES     Vila Velha      1535     501325\n",
       "       Vitória         1551     365855\n",
       "       Guarapari       1860     126701"
      ]
     },
     "execution_count": 5,
     "metadata": {},
     "output_type": "execute_result"
    }
   ],
   "source": [
    "df"
   ]
  },
  {
   "cell_type": "code",
   "execution_count": 8,
   "id": "ba2d2fb5",
   "metadata": {},
   "outputs": [
    {
     "data": {
      "text/plain": [
       "Estado  Cidade    \n",
       "MG      Caratinga     1848\n",
       "        Ipatinga      1964\n",
       "        Timóteo       1964\n",
       "SP      Sorocaba      1654\n",
       "        Diadema       1959\n",
       "        Piracicaba    1767\n",
       "ES      Vila Velha    1535\n",
       "        Vitória       1551\n",
       "        Guarapari     1860\n",
       "Name: Fundação, dtype: int64"
      ]
     },
     "execution_count": 8,
     "metadata": {},
     "output_type": "execute_result"
    }
   ],
   "source": [
    "df['Fundação']"
   ]
  },
  {
   "cell_type": "code",
   "execution_count": null,
   "id": "b7e3f303",
   "metadata": {},
   "outputs": [],
   "source": []
  }
 ],
 "metadata": {
  "kernelspec": {
   "display_name": "Python 3 (ipykernel)",
   "language": "python",
   "name": "python3"
  },
  "language_info": {
   "codemirror_mode": {
    "name": "ipython",
    "version": 3
   },
   "file_extension": ".py",
   "mimetype": "text/x-python",
   "name": "python",
   "nbconvert_exporter": "python",
   "pygments_lexer": "ipython3",
   "version": "3.8.0"
  }
 },
 "nbformat": 4,
 "nbformat_minor": 5
}
